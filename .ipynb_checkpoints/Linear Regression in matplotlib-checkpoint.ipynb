{
 "cells": [
  {
   "cell_type": "code",
   "execution_count": 30,
   "metadata": {
    "collapsed": false,
    "scrolled": true
   },
   "outputs": [],
   "source": [
    "import matplotlib.pyplot as plt\n",
    "import numpy as np\n",
    "from sklearn import datasets, linear_model"
   ]
  },
  {
   "cell_type": "code",
   "execution_count": 39,
   "metadata": {
    "collapsed": false
   },
   "outputs": [
    {
     "name": "stdout",
     "output_type": "stream",
     "text": [
      "935\n"
     ]
    }
   ],
   "source": [
    "import json\n",
    "from operator import itemgetter\n",
    "\n",
    "owdata = []\n",
    "\n",
    "def get_data( index ) :\n",
    "    \n",
    "    with open('data{}_{}.json'.format( index*50, index*50+50 )) as data_file:    \n",
    "        data = json.load( data_file )\n",
    "\n",
    "    for player in data:\n",
    "        for server in player:\n",
    "\n",
    "            if( server in ['eu', 'us', 'kr'] and player[server] and player[server]['stats']['competitive'] ):\n",
    "\n",
    "                owdata.append( (player[server]['stats']['competitive']['overall_stats']['comprank'],\n",
    "                                player[server]['stats']['competitive']['overall_stats']['win_rate']) )\n",
    "            \n",
    "for i in range(10):\n",
    "    get_data( i )\n",
    "    \n",
    "print( len(owdata) )"
   ]
  },
  {
   "cell_type": "code",
   "execution_count": 132,
   "metadata": {
    "collapsed": false
   },
   "outputs": [
    {
     "name": "stdout",
     "output_type": "stream",
     "text": [
      "[(1, 6, 23.6), (6, 16, 7.7), (1, 16, 5.5), (0, 23, 3.6), (21, 23, 4.7), (20, 23, 2.2), (6, 0, 18.0), (1, 0, 14.4), (4, 0, 7.3), (1, 4, 10.1), (6, 4, 11.5), (18, 16, 5.4), (18, 6, 8.6), (6, 23, 6.6), (4, 23, 3.2), (18, 4, 3.9), (18, 17, 3.6), (16, 0, 5.2), (18, 23, 4.3), (18, 0, 6.5), (18, 14, 2.6), (16, 23, 3.7), (1, 23, 4.1), (18, 1, 8.7), (17, 16, 2.1), (5, 0, 2.1), (18, 13, 2.8), (18, 5, 2.4), (17, 14, 6.3), (16, 14, 3.2), (16, 13, 2.2), (20, 19, 2.2), (14, 23, 4.6), (19, 23, 6.6), (21, 19, 2.2), (14, 19, 3.4)]\n"
     ]
    }
   ],
   "source": [
    "from collections import Counter\n",
    "\n",
    "connections = []\n",
    "graph['conn'] = []\n",
    "\n",
    "# for i in range( len(hero_dict) ):\n",
    "#     graph['conn'].append( [0]*(len(hero_dict)-1) )\n",
    "\n",
    "def connect ( source, target ):\n",
    "    if source > target:\n",
    "        return ( hero_dict[source], hero_dict[target] )\n",
    "    else:\n",
    "        return ( hero_dict[target], hero_dict[source] )\n",
    "\n",
    "for times in playtimes:\n",
    "    connections.append( connect( times[0][0], times[1][0] ) )\n",
    "    connections.append( connect( times[1][0], times[2][0] ) )\n",
    "    connections.append( connect( times[2][0], times[0][0] ) )\n",
    "\n",
    "connections = dict( Counter(connections) )\n",
    "\n",
    "# print( connections )\n",
    "# print( graph )\n",
    "\n",
    "for (s, t) in connections:\n",
    "    if connections[(s,t)] > 20:\n",
    "        graph['conn'].append( ( s , t, connections[(s,t)]/10 ) )\n",
    "\n",
    "print( graph['conn'] )"
   ]
  },
  {
   "cell_type": "code",
   "execution_count": 32,
   "metadata": {
    "collapsed": false
   },
   "outputs": [],
   "source": [
    "# Load the diabetes dataset\n",
    "owdata\n"
   ]
  },
  {
   "cell_type": "code",
   "execution_count": 3,
   "metadata": {
    "collapsed": true
   },
   "outputs": [],
   "source": [
    "# Use only one feature\n",
    "skill_ratings = [ d[] owdata]\n",
    "\n",
    "# Split the data into training/testing sets\n",
    "diabetes_X_train = diabetes_X[:-20]\n",
    "diabetes_X_test = diabetes_X[-20:]\n",
    "\n",
    "# Split the targets into training/testing sets\n",
    "diabetes_y_train = diabetes.target[:-20]\n",
    "diabetes_y_test = diabetes.target[-20:]"
   ]
  },
  {
   "cell_type": "code",
   "execution_count": 4,
   "metadata": {
    "collapsed": false
   },
   "outputs": [
    {
     "data": {
      "text/plain": [
       "LinearRegression(copy_X=True, fit_intercept=True, n_jobs=1, normalize=False)"
      ]
     },
     "execution_count": 4,
     "metadata": {},
     "output_type": "execute_result"
    }
   ],
   "source": [
    "# Create linear regression object\n",
    "regr = linear_model.LinearRegression()\n",
    "\n",
    "# Train the model using the training sets\n",
    "regr.fit(diabetes_X_train, diabetes_y_train)"
   ]
  },
  {
   "cell_type": "code",
   "execution_count": 5,
   "metadata": {
    "collapsed": false
   },
   "outputs": [
    {
     "name": "stdout",
     "output_type": "stream",
     "text": [
      "Coefficients: \n",
      " [ 938.23786125]\n",
      "Mean squared error: 2548.07\n",
      "Variance score: 0.47\n"
     ]
    }
   ],
   "source": [
    "# The coefficients\n",
    "print('Coefficients: \\n', regr.coef_)\n",
    "# The mean squared error\n",
    "print(\"Mean squared error: %.2f\"\n",
    "      % np.mean((regr.predict(diabetes_X_test) - diabetes_y_test) ** 2))\n",
    "# Explained variance score: 1 is perfect prediction\n",
    "print('Variance score: %.2f' % regr.score(diabetes_X_test, diabetes_y_test))"
   ]
  },
  {
   "cell_type": "code",
   "execution_count": 40,
   "metadata": {
    "collapsed": false
   },
   "outputs": [
    {
     "ename": "TypeError",
     "evalue": "scatter() missing 1 required positional argument: 'y'",
     "output_type": "error",
     "traceback": [
      "\u001b[0;31m---------------------------------------------------------------------------\u001b[0m",
      "\u001b[0;31mTypeError\u001b[0m                                 Traceback (most recent call last)",
      "\u001b[0;32m<ipython-input-40-8001257c6ffd>\u001b[0m in \u001b[0;36m<module>\u001b[0;34m()\u001b[0m\n\u001b[1;32m      1\u001b[0m \u001b[1;31m# Plot outputs\u001b[0m\u001b[1;33m\u001b[0m\u001b[1;33m\u001b[0m\u001b[0m\n\u001b[0;32m----> 2\u001b[0;31m \u001b[0mplt\u001b[0m\u001b[1;33m.\u001b[0m\u001b[0mscatter\u001b[0m\u001b[1;33m(\u001b[0m\u001b[0mowdata\u001b[0m\u001b[1;33m,\u001b[0m \u001b[0mcolor\u001b[0m\u001b[1;33m=\u001b[0m\u001b[1;34m'black'\u001b[0m\u001b[1;33m)\u001b[0m\u001b[1;33m\u001b[0m\u001b[0m\n\u001b[0m\u001b[1;32m      3\u001b[0m plt.plot(diabetes_X_test, regr.predict(diabetes_X_test), color='blue',\n\u001b[1;32m      4\u001b[0m          linewidth=3)\n\u001b[1;32m      5\u001b[0m \u001b[1;33m\u001b[0m\u001b[0m\n",
      "\u001b[0;31mTypeError\u001b[0m: scatter() missing 1 required positional argument: 'y'"
     ]
    }
   ],
   "source": [
    "# Plot outputs\n",
    "plt.scatter(owdata, color='black')\n",
    "plt.plot(diabetes_X_test, regr.predict(diabetes_X_test), color='blue',\n",
    "         linewidth=3)\n",
    "\n",
    "\n",
    "plt.xticks((-0.1,0,0.1))\n",
    "plt.yticks(())\n",
    "\n",
    "plt.show()"
   ]
  },
  {
   "cell_type": "code",
   "execution_count": null,
   "metadata": {
    "collapsed": true
   },
   "outputs": [],
   "source": []
  }
 ],
 "metadata": {
  "kernelspec": {
   "display_name": "Python 3",
   "language": "python",
   "name": "python3"
  },
  "language_info": {
   "codemirror_mode": {
    "name": "ipython",
    "version": 3
   },
   "file_extension": ".py",
   "mimetype": "text/x-python",
   "name": "python",
   "nbconvert_exporter": "python",
   "pygments_lexer": "ipython3",
   "version": "3.6.0"
  }
 },
 "nbformat": 4,
 "nbformat_minor": 2
}
