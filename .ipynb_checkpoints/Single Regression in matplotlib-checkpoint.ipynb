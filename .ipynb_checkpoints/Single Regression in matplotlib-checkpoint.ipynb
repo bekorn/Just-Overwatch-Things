{
 "cells": [
  {
   "cell_type": "code",
   "execution_count": 14,
   "metadata": {
    "collapsed": false,
    "scrolled": true
   },
   "outputs": [],
   "source": [
    "import matplotlib.pyplot as plt\n",
    "import numpy as np\n",
    "from sklearn import linear_model"
   ]
  },
  {
   "cell_type": "code",
   "execution_count": 15,
   "metadata": {
    "collapsed": false
   },
   "outputs": [
    {
     "name": "stdout",
     "output_type": "stream",
     "text": [
      "902\n"
     ]
    }
   ],
   "source": [
    "import json\n",
    "from operator import itemgetter\n",
    "\n",
    "owdata = []\n",
    "\n",
    "def get_data( index ) :\n",
    "    \n",
    "    with open('data{}_{}.json'.format( index*50, index*50+50 )) as data_file:    \n",
    "        data = json.load( data_file )\n",
    "\n",
    "    for player in data:\n",
    "        for server in player:\n",
    "\n",
    "            if server in ['eu', 'us', 'kr'] and player[server] and player[server]['stats']['competitive'] and player[server]['stats']['competitive']['overall_stats']['comprank'] and player[server]['stats']['competitive']['overall_stats']['comprank'] > 1000 and player[server]['stats']['competitive']['overall_stats']['win_rate'] > 10:\n",
    "\n",
    "                owdata.append( (player[server]['stats']['competitive']['overall_stats']['comprank'],\n",
    "                                player[server]['stats']['competitive']['overall_stats']['win_rate']) )\n",
    "            \n",
    "for i in range(10):\n",
    "    get_data( i )\n",
    "    \n",
    "print( len(owdata) )"
   ]
  },
  {
   "cell_type": "code",
   "execution_count": 23,
   "metadata": {
    "collapsed": false
   },
   "outputs": [],
   "source": [
    "# x\n",
    "win_rates = sorted( [ [d[1]] for d in owdata ] )\n",
    "#  y\n",
    "skill_ratings = sorted( [ [d[0]] for d in owdata ] )"
   ]
  },
  {
   "cell_type": "code",
   "execution_count": 31,
   "metadata": {
    "collapsed": false
   },
   "outputs": [
    {
     "data": {
      "text/plain": [
       "LinearRegression(copy_X=True, fit_intercept=True, n_jobs=1, normalize=False)"
      ]
     },
     "execution_count": 31,
     "metadata": {},
     "output_type": "execute_result"
    }
   ],
   "source": [
    "# Create linear regression object\n",
    "regr = linear_model.LinearRegression()\n",
    "regr.fit( win_rates, skill_ratings )"
   ]
  },
  {
   "cell_type": "code",
   "execution_count": 32,
   "metadata": {
    "collapsed": false
   },
   "outputs": [
    {
     "name": "stdout",
     "output_type": "stream",
     "text": [
      "Coefficients: \n",
      " [[ 19.64263437]]\n",
      "Mean squared error: 23312.04\n",
      "Variance score: 0.49\n"
     ]
    }
   ],
   "source": [
    "# The coefficients\n",
    "print('Coefficients: \\n', regr.coef_)\n",
    "# The mean squared error\n",
    "print(\"Mean squared error: %.2f\"\n",
    "      % np.mean((regr.predict(win_rates) - skill_ratings) ** 2))\n",
    "# Explained variance score: 1 is perfect prediction\n",
    "print('Variance score: %.2f' % regr.score(win_rates, skill_ratings))"
   ]
  },
  {
   "cell_type": "code",
   "execution_count": 42,
   "metadata": {
    "collapsed": false
   },
   "outputs": [
    {
     "name": "stdout",
     "output_type": "stream",
     "text": [
      "Help on function scatter in module matplotlib.pyplot:\n",
      "\n",
      "scatter(x, y, s=None, c=None, marker=None, cmap=None, norm=None, vmin=None, vmax=None, alpha=None, linewidths=None, verts=None, edgecolors=None, hold=None, data=None, **kwargs)\n",
      "    Make a scatter plot of `x` vs `y`\n",
      "    \n",
      "    Marker size is scaled by `s` and marker color is mapped to `c`\n",
      "    \n",
      "    Parameters\n",
      "    ----------\n",
      "    x, y : array_like, shape (n, )\n",
      "        Input data\n",
      "    \n",
      "    s : scalar or array_like, shape (n, ), optional\n",
      "        size in points^2.  Default is `rcParams['lines.markersize'] ** 2`.\n",
      "    \n",
      "    c : color, sequence, or sequence of color, optional, default: 'b'\n",
      "        `c` can be a single color format string, or a sequence of color\n",
      "        specifications of length `N`, or a sequence of `N` numbers to be\n",
      "        mapped to colors using the `cmap` and `norm` specified via kwargs\n",
      "        (see below). Note that `c` should not be a single numeric RGB or\n",
      "        RGBA sequence because that is indistinguishable from an array of\n",
      "        values to be colormapped.  `c` can be a 2-D array in which the\n",
      "        rows are RGB or RGBA, however, including the case of a single\n",
      "        row to specify the same color for all points.\n",
      "    \n",
      "    marker : `~matplotlib.markers.MarkerStyle`, optional, default: 'o'\n",
      "        See `~matplotlib.markers` for more information on the different\n",
      "        styles of markers scatter supports. `marker` can be either\n",
      "        an instance of the class or the text shorthand for a particular\n",
      "        marker.\n",
      "    \n",
      "    cmap : `~matplotlib.colors.Colormap`, optional, default: None\n",
      "        A `~matplotlib.colors.Colormap` instance or registered name.\n",
      "        `cmap` is only used if `c` is an array of floats. If None,\n",
      "        defaults to rc `image.cmap`.\n",
      "    \n",
      "    norm : `~matplotlib.colors.Normalize`, optional, default: None\n",
      "        A `~matplotlib.colors.Normalize` instance is used to scale\n",
      "        luminance data to 0, 1. `norm` is only used if `c` is an array of\n",
      "        floats. If `None`, use the default :func:`normalize`.\n",
      "    \n",
      "    vmin, vmax : scalar, optional, default: None\n",
      "        `vmin` and `vmax` are used in conjunction with `norm` to normalize\n",
      "        luminance data.  If either are `None`, the min and max of the\n",
      "        color array is used.  Note if you pass a `norm` instance, your\n",
      "        settings for `vmin` and `vmax` will be ignored.\n",
      "    \n",
      "    alpha : scalar, optional, default: None\n",
      "        The alpha blending value, between 0 (transparent) and 1 (opaque)\n",
      "    \n",
      "    linewidths : scalar or array_like, optional, default: None\n",
      "        If None, defaults to (lines.linewidth,).\n",
      "    \n",
      "    verts : sequence of (x, y), optional\n",
      "        If `marker` is None, these vertices will be used to\n",
      "        construct the marker.  The center of the marker is located\n",
      "        at (0,0) in normalized units.  The overall marker is rescaled\n",
      "        by ``s``.\n",
      "    \n",
      "    edgecolors : color or sequence of color, optional, default: None\n",
      "        If None, defaults to 'face'\n",
      "    \n",
      "        If 'face', the edge color will always be the same as\n",
      "        the face color.\n",
      "    \n",
      "        If it is 'none', the patch boundary will not\n",
      "        be drawn.\n",
      "    \n",
      "        For non-filled markers, the `edgecolors` kwarg\n",
      "        is ignored and forced to 'face' internally.\n",
      "    \n",
      "    Returns\n",
      "    -------\n",
      "    paths : `~matplotlib.collections.PathCollection`\n",
      "    \n",
      "    Other parameters\n",
      "    ----------------\n",
      "    kwargs : `~matplotlib.collections.Collection` properties\n",
      "    \n",
      "    See Also\n",
      "    --------\n",
      "    plot : to plot scatter plots when markers are identical in size and\n",
      "        color\n",
      "    \n",
      "    Notes\n",
      "    -----\n",
      "    \n",
      "    * The `plot` function will be faster for scatterplots where markers\n",
      "      don't vary in size or color.\n",
      "    \n",
      "    * Any or all of `x`, `y`, `s`, and `c` may be masked arrays, in which\n",
      "      case all masks will be combined and only unmasked points will be\n",
      "      plotted.\n",
      "    \n",
      "      Fundamentally, scatter works with 1-D arrays; `x`, `y`, `s`, and `c`\n",
      "      may be input as 2-D arrays, but within scatter they will be\n",
      "      flattened. The exception is `c`, which will be flattened only if its\n",
      "      size matches the size of `x` and `y`.\n",
      "    \n",
      "    Examples\n",
      "    --------\n",
      "    .. plot:: mpl_examples/shapes_and_collections/scatter_demo.py\n",
      "    \n",
      "    .. note::\n",
      "        In addition to the above described arguments, this function can take a\n",
      "        **data** keyword argument. If such a **data** argument is given, the\n",
      "        following arguments are replaced by **data[<arg>]**:\n",
      "    \n",
      "        * All arguments with the following names: 'c', 'color', 'edgecolors', 'facecolor', 'facecolors', 'linewidths', 's', 'x', 'y'.\n",
      "\n"
     ]
    },
    {
     "data": {
      "image/png": "[encoded data removed]",
      "text/plain": [
       "<matplotlib.figure.Figure at 0x1b64e15af60>"
      ]
     },
     "metadata": {},
     "output_type": "display_data"
    }
   ],
   "source": [
    "# Plot outputs\n",
    "# fig, ax = plt.subplots()\n",
    "\n",
    "help( plt.scatter )\n",
    "\n",
    "plt.scatter( win_rates, skill_ratings, c=[1,0.3,0.3,0.1] )\n",
    "plt.plot( win_rates, regr.predict(win_rates), c=[0,0,0,0.9], linewidth=3)\n",
    "plt.legend(['Real Data', 'Estimation'])\n",
    "\n",
    "plt.xlabel('Win Rate')\n",
    "plt.ylabel('Skill Rating')\n",
    "\n",
    "plt.show()"
   ]
  },
  {
   "cell_type": "code",
   "execution_count": null,
   "metadata": {
    "collapsed": true
   },
   "outputs": [],
   "source": []
  }
 ],
 "metadata": {
  "kernelspec": {
   "display_name": "Python 3",
   "language": "python",
   "name": "python3"
  },
  "language_info": {
   "codemirror_mode": {
    "name": "ipython",
    "version": 3
   },
   "file_extension": ".py",
   "mimetype": "text/x-python",
   "name": "python",
   "nbconvert_exporter": "python",
   "pygments_lexer": "ipython3",
   "version": "3.6.0"
  }
 },
 "nbformat": 4,
 "nbformat_minor": 2
}
