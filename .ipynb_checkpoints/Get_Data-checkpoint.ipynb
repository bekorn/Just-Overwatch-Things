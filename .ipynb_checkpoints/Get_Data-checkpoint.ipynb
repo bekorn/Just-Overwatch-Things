{
 "cells": [
  {
   "cell_type": "code",
   "execution_count": 35,
   "metadata": {
    "collapsed": false
   },
   "outputs": [
    {
     "name": "stdout",
     "output_type": "stream",
     "text": [
      "[['mikk017f-2536', '쪼낙-3241', 'CantuS-11693', 'dafran-2671', 'Graceful-2412', 'EFFECT-31630', 'MsPeregrine-1558', 'SelflessGG-1116', 'SPACE-12232', 'yArG-3338', 'YLLES-3238', 'silkthread-1324', 'Poko-2323', 'x69x420x69xD-1759', 'Exxu-2719', 'koreanbbq-11796', 'Zonda-4175', 'babybay-1469', '쪼물락낙지-3895', 'VX877652969-1828', 'SKRRSKRR-1878', 'Dante-28343', 'kyru-21699', 'Han-22875', 'Nbrgibup-1700', 'Rawkus-1108', 'Hydration-1570', 'Miso-11505', 'Shaz-21907', 'Rascal-31813', 'KariV-31768', 'Kellar-1335', 'Smex-21111', 'vallutaja-2514', '뜨용-3960', 'Lelouch-22653', 'snillo-21537', 'NiCOgdh-2794', 'br1-11125', 'EVERMORE-31643', 'Logix-21658', 'BarcodeKiler-21579', 'shadder2k-2475', 'bolderno-2756', 'MemeKid-11523', 'nil-21796', 'Selly-31181', 'Sypeh-2707', 'Zupperman-21406', 'RichChigga-2480'], 1, 2, 3, 4, 5, 6, 7, 8, 9]\n"
     ]
    }
   ],
   "source": [
    "import json\n",
    "from lxml import html\n",
    "import requests\n",
    "\n",
    "# First parse the HTML of the page\n",
    "page = requests.get('http://masteroverwatch.com/leaderboards/pc/global/mode/ranked/category/skillrating', headers = {\"user-agent\" : 'justoverwatchthings.wordpress.com'})\n",
    "tree = html.fromstring( page.content )\n",
    "\n",
    "links = tree.xpath('/html/body/main[2]/div/div[2]/div/div[2]/div[3]/div')\n",
    "\n",
    "# battle_tags will be stored in 50s (as masteroverwatch paginates them)\n",
    "amount_of_pages = 10\n",
    "battle_tags = list( range(amount_of_pages) )\n",
    "battle_tags[0] = [ link[0].attrib['href'].split('/')[-1] for link in links ]\n",
    "\n",
    "print( battle_tags )"
   ]
  },
  {
   "cell_type": "code",
   "execution_count": 36,
   "metadata": {
    "collapsed": false
   },
   "outputs": [
    {
     "name": "stdout",
     "output_type": "stream",
     "text": [
      "https://masteroverwatch.com/leaderboards/pc/global/mode/ranked/category/skillrating/hero/overall/role/overall/data?offset=50\n",
      "Page 1 loaded\n",
      "['MYSTEH-21456', 'JAKE-16465', 'Razaplaza-2649', 'A2983843821-1642', 'Tehpwnzorr-1690', 'harbleu-1515', 'DisasterLvLG-2340', 'Agilities-11974', 'sisyphus-11886', 'Davin-2928', 'tape7-2923', 'Sacra-2459', 'GaleAdelade-1452', 'SpoXez-2421', 'bazant25-2824', 'zza-11231', 'Vizility-2396', 'Worss-21624', 'LoserFruit-11265', 'redstart-1766', 'Jaru-11700', 'Maid-11111', 'Nych-21612', 'esky-2516', 'Zaprey-2591', 'SECRET-21784', 'Zeal-21567', 'setrox-21171', 'LittleMenace-11286', 'S1nkler-3855', 'Meow-22741', 'KAISER-31361', 'FancyHat-4714', 'Cloneman19-1524', 'birdring-3198', 'laidbackjuke-11325', 'KAFEEEEEE-2350', 'MULTITALENT-21730', 'MemeInhaler-2645', 'Baconjack-3784', 'NokSs-2860', 'Zuppehw-21158', 'Tiger-23761', 'SPREE-2984', 'PoPiFresH-21369', 'Chayne-1613', '학살-31570', 'RinaVX-1593', 'Adam-15528', 'Kyb-2630']\n",
      "\n",
      "https://masteroverwatch.com/leaderboards/pc/global/mode/ranked/category/skillrating/hero/overall/role/overall/data?offset=100\n",
      "Page 2 loaded\n",
      "['Colourhex-1903', 'veil-31443', 'humie-2277', 'fiya-31644', 'PeanutButter-21829', 'Bischu-1620', 'destro-21674', 'eerpS-2719', 'Kryw-2449', 'DreamKazper-1852', 'Алексей-27265', 'MoNo-31285', 'DVa-21607', 'Chanse-11414', 'BaeyuunǶ-1680', 'Psycho13-2577', 'LUSH-1632', 'Rubikon-2275', 'LEETAEJUN-31447', 'Dids-2216', 'MajinGrace-2103', 'Caliroots-2957', 'sayaplayer-3747', 'MrDoot-11132', 'Jardio-1490', 'Kragie-2307', 'quica-21729', 'JAN-24526', 'sinatraa-11809', 'Seraphic-21298', 'MATTH-21569', 'Txao8-2676', 'GrimReality-11170', 'Dogman-11589', 'FCTFCTN-1855', 'Greyy-21535', 'VoHiYo-11619', 'Meza-21587', 'Custa-1679', 'Quoizamama-2626', 'iShiny-1688', 'nil-21796', 'Wraxu-1747', 'Mendokusaii-2955', 'Pugz-11888', 'Catakryst-1635', 'LiNkzr-2434', 'SŏjunǶ-1755', 'HarryHook-2309', 'Decod-2801']\n",
      "\n",
      "https://masteroverwatch.com/leaderboards/pc/global/mode/ranked/category/skillrating/hero/overall/role/overall/data?offset=150\n",
      "Page 3 loaded\n",
      "['Eqo-21180', 'DollarBill-21375', 'Kephrii-11520', 'Nevix-2877', 'Boombox-11925', 'emongg-11180', 'OMGWTFBBQ913-2872', 'KaWaiiAndMOE-2306', 'oPuTo-1727', 'Codey-11115', 'AFattune-3571', 'KSF-11609', 'Rage-12722', 'Roolf-1732', 'eZincV4-1818', 'Zoom-11913', 'ckm-1525', 'AFArHaN-3412', 'SmallCheat-2482', 'Lui-1600', 'meimain-2593', 'Hunni-21543', 'SAUSAGE-21308', 'TheFabiGuy-2325', 'FreeD-2807', 'moepork-11578', 'MreA-1268', '명훈-31678', 'numlocked-21330', 'ELLING-21374', 'HeyKatie-1413', 'Fahzix-1213', 'Tonic-2415', 'chipshajen-2102', 'Hoon-31342', 'Midnight-13327', 'Tisumi-11362', 'CONFESSOR-11903', 'xretzi-11883', 'Sardisthe3rd-2684', 'bock1-2590', 'kodaK-21596', 'Sardis-21172', 'Crosyph-1866', 'SoOn-2543', 'Lawliet-21673', 'BLKieatuup-1101', 'liko-11695', 'hanzoorafk-2799', 'DaHanG-1261']\n",
      "\n",
      "https://masteroverwatch.com/leaderboards/pc/global/mode/ranked/category/skillrating/hero/overall/role/overall/data?offset=200\n",
      "Page 4 loaded\n",
      "['champiii-21992', 'DatsVile-1613', 'ELLIVOTE-2174', 'srauon-2262', 'Sky-13461', 'lllllllll-21638', 'ryujehong-31878', 'Nahkajumala-2473', 'Faye-11297', 'Lootre-1339', 'Mete-22786', 'Jchuk99-1390', 'akasha-12108', 'poks-21738', 'ToiletMan-11861', 'EeveeC-1313', 'Spirit-12303', 'ryujehong-31380', 'PrimoDulce-1166', 'order-31569', 'ottr-21142', 'morotsbjörn-1429', 'Coluge-1798', 'kiyomi-4117', 'SharP-21704', 'no1special-21260', 'DPSFACTORY-2289', 'Unknown-14452', 'iRemiix-1650', 'goofyGOOBER-11510', 'ShaDowBurn-2301', 'rushnept1-2628', 'Mistakes-2832', 'VorteX-2556', 'ReaaLN-2823', 'ohNocturnal-1250', 'idkfa-21904', 'blasé-11745', 'FuriaDelMONO-2216', 'zappis-21285', 'Voll-1670', 'KongenLund-2855', 'nosfa-1382', 'klanton-2720', 'lou2hot-2697', 'DanteDante-21155', 'VoHiYo-2721', 'NotE-1996', 'Gingerpop-1474', 'ZorroSeveN-2369']\n",
      "\n",
      "https://masteroverwatch.com/leaderboards/pc/global/mode/ranked/category/skillrating/hero/overall/role/overall/data?offset=250\n",
      "Page 5 loaded\n",
      "['friedwiener-1601', 'uNKOE-2828', 'Tokki-1735', 'Klocky-3301', 'FGaetar-1761', 'theavenger-11269', 'Danii-21705', 'Dersa-2151', 'peegee-11653', 'Zappy-21522', 'Slayergramps-1446', 'OneFact-1455', 'aKm-2452', 'DrRiku-1866', 'SongRui-6242', 'Matheus-15384', 'Corey-12398', 'NotOnPayload-2490', 'FGieatuup-1853', 'TheHell-31963', 'GrandPoobah-11982', 'DevynBreanne-1726', 'questionmark-22552', 'pffpsh-2425', 'Dopa-21236', 'hafał-2200', 'dempsi-21825', 'ScuffedMei-2631', 'Jona-2933', 'SneakySnek-11921', 'buds-1966', 'ŴŻŽ-1411', 'Mande-11877', 'PhoenixClaw-2827', 'Helper-31104', 'Txao-21793', 'Nycheia-2991', 'Bubbly-2373', 'CudnyGnat-21915', 'thebigone-2566', 'Moth-21927', 'JDoggies-1579', 'Trafix-2667', 'Winters-11406', 'Dusttin-11274', 'Zebbosai-2381', 'cheridormi-2348', 'Meza-21716', 'Marcel-12326', 'stimp-11139']\n",
      "\n",
      "https://masteroverwatch.com/leaderboards/pc/global/mode/ranked/category/skillrating/hero/overall/role/overall/data?offset=300\n",
      "Page 6 loaded\n",
      "['Merz-2601', 'pomzerinoh-2133', 'Shereshoy-1854', 'Jongie-4238', 'Flippy-22476', 'Butcher-31965', 'Tetrix-21501', 'feeltherain-11126', 'Dino-12114', 'Shake-1219', 'Zock-11779', 'MOKTAR-21775', 'MULTITALENT-21730', 'TuTuRu-11342', 'iddqd-2884', 'Nesty-1285', 'SWAGGODLGND-11290', 'NUS-31591', 'FGtrill-1207', 'Neron-2318', 'kryma-21535', 'Shakz-11789', 'Addicted-2834', 'Sam-112374', 'Libero-32335', 'UberDriver-1487', 'UBI-11653', 'MadOx-1709', 'Haksal-31524', 'Didier-21624', 'Yaga-21974', 'Yungsun-11362', 'Goliath-1170', 'GATEKEEPERǶ-1935', 'pizzacake-11508', 'Akawa-11298', 'Okie-1494', 'tjuvjakt-21314', 'benshapiro-2473', 'DANYE-21205', 'reach-11534', 'CrusaDe-1188', 'WANTED-11518', 'Sojun-11663', 'Bing-11692', 'almostpanda-2680', 'Caliroots-2957', 'Fusions-2559', 'HooWoo-11659', 'AntiHeal-21712']\n",
      "\n",
      "https://masteroverwatch.com/leaderboards/pc/global/mode/ranked/category/skillrating/hero/overall/role/overall/data?offset=350\n",
      "Page 7 loaded\n",
      "['Nesh-2340', 'Miro-31858', 'Entendu-11307', 'h1day-2800', 'vpi-11641', 'Ruape-2631', 'DeGuN-2283', 'Berglund-21640', 'Romei-31165', 'Teux-21998', 'bstln-2787', 'rCk-21797', 'super-12850', 'dorkynerd-2148', 'MreA-1268', 'Soarex-1681', 'Fox-27844', 'Motherlandz-1501', 'NotMcCree-2873', 'MrBeck-2179', 'Shock-2746', 'Asking-21337', 'MrSquishee-1788', 'ONIGOD-21483', 'Kusaka-2523', 'Chrisu-11889', 'DenyDesu-2945', 'hyp3d-1543', 'uNFixed-2518', 'Realzx-21536', 'Ged-2898', 'MMRPUNISHER-2626', 'Aktm-11812', 'LynnnnnX-2901', 'NexX-2496', 'VANSQUAD-3560', 'Hoon-31856', 'RNGGODŞ-2231', 'prodz-21984', 'CWoosH-2951', 'FunnyAstro-2570', 'horrorscope-11529', 'Nitro-1164', 'Knellery-1618', 'Surefour-2559', 'BelayaNoch-2217', 'Necros-2326', 'Blinky2-1282', 'CalVo-11926', 'Wat7-2921']\n",
      "\n",
      "https://masteroverwatch.com/leaderboards/pc/global/mode/ranked/category/skillrating/hero/overall/role/overall/data?offset=400\n",
      "Page 8 loaded\n",
      "['JustRuski-2837', 'mowzassa-2173', 'nuBKi-11886', 'Korzz-2159', 'KILLERCLOUDX-2874', 'Kayuun-1837', 'KabaL-2996', 'Xanzus-2465', 'Zapso-1844', 'SSARUOYLLIKI-2243', 'iPN-21338', 'DixxyDix-2334', 'Nico-13694', 'Slapwit-1351', 'yot-2646', 'Assasinkitty-2390', 'MVPBrek-3842', 'Pjc9119-1907', 'xorb-21359', 'Jardiope-1752', 'Omax-2146', 'Tykx-2841', 'HarryHook-2309', 'niko-12118', 'Hoernchen-2893', 'NLaaeR-2661', 'ShRP0k-1339', 'Shikari-11156', 'Edwin-22617', 'Pihyrm-1520', 'caramelkoala-1588', 'RaijinJayce-2493', 'Todal-21140', 'Erki-21753', 'khan-12652', 'RuBBu-1563', 'Sweebl-2733', 'SEEDËADPEØPĿ-1284', 'Horthic-21496', 'Nuja-2344', 'llllllllll-11194', 'SuperJuul-21869', 'Tseini-2304', 'dudu-12703', 'Reinforce-2978', 'superNayr-1838', 'JohnSinan-2266', 'Moowe-4479', 'BromaS-2591', 'Meuq-1916']\n",
      "\n",
      "https://masteroverwatch.com/leaderboards/pc/global/mode/ranked/category/skillrating/hero/overall/role/overall/data?offset=450\n",
      "Page 9 loaded\n",
      "['Kellex-21277', 'NezerDowte-2662', 'Dreadful-21131', 'Trispear-2233', 'BlackRose-12563', 'ConfusedPube-1277', 'Pęǻçē-2583', 'mL7-21877', 'arcaKy-1134', 'GrandToobah-1772', 'rafx-11845', 'lulz-11218', 'PunkyYager-3331', 'Obling-2186', 'MaDMaX-1937', '古怪烏龜-41658', 'DarkZ-21998', 'OKAMI-22204', 'AZK-1849', 'Saura-2771', 'Henzu-2583', 'Ynnnnnnn-1963', 'Calas-2615', 'Pvp-1717', 'Refrigraptor-2827', 'vee-1833', 'Hus-11879', 'ConnorLuca-1124', 'HiddenSquid-12137', 'Lelouch-22653', 'naruto501236-1701', 'Far-11498', 'Poko-2323', 'Adam-1251', 'Sadamik-2969', 'iuKeEe-2596', 'Greg2fram-2791', 'Dazzle-21308', 'KMoMo-3108', 'Guts-11313', 'youngboY-21151', 'SADISTIC-11808', '희망가득광석이-3919', 'eZinc-1822', 'Dal10-11702', 'Segev-21162', 'Gerrith-1909', 'Gustav-22956', 'C9swag-11441', 'moursi-2870']\n",
      "\n"
     ]
    }
   ],
   "source": [
    "def get_page( index ) :\n",
    "    page = requests.get(\"https://masteroverwatch.com/leaderboards/pc/global/mode/ranked/category/skillrating/hero/overall/role/overall/data?offset={}\".format( index*50 ))\n",
    "    page = json.loads( page.content )\n",
    "\n",
    "    if page['status'] == \"success\" :\n",
    "        return [ link[60:].split('\"', 1)[0].split('/')[-1] for link in page['entries'] ]\n",
    "    else :\n",
    "        return []\n",
    "\n",
    "for index in range(1, amount_of_pages) :\n",
    "    battle_tags[index] = get_page( index )\n",
    "    print( \"https://masteroverwatch.com/leaderboards/pc/global/mode/ranked/category/skillrating/hero/overall/role/overall/data?offset={}\".format( index*50 ) )\n",
    "    print( \"Page {} loaded\\n{}\\n\".format( index, battle_tags[index] ) )"
   ]
  },
  {
   "cell_type": "code",
   "execution_count": 37,
   "metadata": {
    "collapsed": true
   },
   "outputs": [],
   "source": [
    "with open('battle_tags.json', 'w') as output:\n",
    "    json.dump( battle_tags, output )"
   ]
  },
  {
   "cell_type": "code",
   "execution_count": 50,
   "metadata": {
    "collapsed": false
   },
   "outputs": [
    {
     "name": "stdout",
     "output_type": "stream",
     "text": [
      "[+] Got info of [0 | Kellex-21277]\n",
      "[+] Got info of [1 | NezerDowte-2662]\n",
      "[+] Got info of [2 | Dreadful-21131]\n",
      "[+] Got info of [3 | Trispear-2233]\n",
      "[+] Got info of [4 | BlackRose-12563]\n",
      "[ ] Waiting.... [5 | ConfusedPube-1277] -Server timed out.\n",
      "[+] Got info of [5 | ConfusedPube-1277]\n",
      "[+] Got info of [6 | Pęǻçē-2583]\n",
      "[+] Got info of [7 | mL7-21877]\n",
      "[ ] Waiting.... [8 | arcaKy-1134] -Server timed out.\n",
      "[+] Got info of [8 | arcaKy-1134]\n",
      "[+] Got info of [9 | GrandToobah-1772]\n",
      "[ ] Waiting.... [10 | rafx-11845] -Server timed out.\n",
      "[+] Got info of [10 | rafx-11845]\n",
      "[+] Got info of [11 | lulz-11218]\n",
      "[+] Got info of [12 | PunkyYager-3331]\n",
      "[+] Got info of [13 | Obling-2186]\n",
      "[+] Got info of [14 | MaDMaX-1937]\n",
      "[+] Got info of [15 | 古怪烏龜-41658]\n",
      "[+] Got info of [16 | DarkZ-21998]\n",
      "[+] Got info of [17 | OKAMI-22204]\n",
      "[+] Got info of [18 | AZK-1849]\n",
      "[+] Got info of [19 | Saura-2771]\n",
      "[+] Got info of [20 | Henzu-2583]\n",
      "[+] Got info of [21 | Ynnnnnnn-1963]\n",
      "[+] Got info of [22 | Calas-2615]\n",
      "[ ] Waiting.... [23 | Pvp-1717] -Server timed out.\n",
      "[ ] Waiting.... [23 | Pvp-1717] -Server timed out.\n",
      "[+] Got info of [23 | Pvp-1717]\n",
      "[+] Got info of [24 | Refrigraptor-2827]\n",
      "[ ] Waiting.... [25 | vee-1833] -Server timed out.\n",
      "[+] Got info of [25 | vee-1833]\n",
      "[+] Got info of [26 | Hus-11879]\n",
      "[+] Got info of [27 | ConnorLuca-1124]\n",
      "[+] Got info of [28 | HiddenSquid-12137]\n",
      "[+] Got info of [29 | Lelouch-22653]\n",
      "[+] Got info of [30 | naruto501236-1701]\n",
      "[+] Got info of [31 | Far-11498]\n",
      "[+] Got info of [32 | Poko-2323]\n",
      "[+] Got info of [33 | Adam-1251]\n",
      "[+] Got info of [34 | Sadamik-2969]\n",
      "[+] Got info of [35 | iuKeEe-2596]\n",
      "[+] Got info of [36 | Greg2fram-2791]\n",
      "[+] Got info of [37 | Dazzle-21308]\n",
      "[+] Got info of [38 | KMoMo-3108]\n",
      "[+] Got info of [39 | Guts-11313]\n",
      "[+] Got info of [40 | youngboY-21151]\n",
      "[+] Got info of [41 | SADISTIC-11808]\n",
      "[+] Got info of [42 | 희망가득광석이-3919]\n",
      "[+] Got info of [43 | eZinc-1822]\n",
      "[+] Got info of [44 | Dal10-11702]\n",
      "[+] Got info of [45 | Segev-21162]\n",
      "[+] Got info of [46 | Gerrith-1909]\n",
      "[+] Got info of [47 | Gustav-22956]\n",
      "[ ] Waiting.... [48 | C9swag-11441] -Server timed out.\n",
      "[+] Got info of [48 | C9swag-11441]\n",
      "[+] Got info of [49 | moursi-2870]\n",
      "-------------------\n",
      "[!] Finished! | 0 players couldn't found\n"
     ]
    }
   ],
   "source": [
    "import time\n",
    "\n",
    "def get_info( tag ) :\n",
    "    info = requests.get('https://owapi.net/api/v3/u/'+ tag +'/blob',\n",
    "                        headers = {\"user-agent\" : 'justoverwatchthings.wordpress.com'})\n",
    "    return json.loads( info.content )\n",
    "\n",
    "details = []\n",
    "\n",
    "page_index = 9;\n",
    "skipped = 0\n",
    "\n",
    "for index, tag in enumerate(battle_tags[page_index]) :\n",
    "    player_info = get_info( tag )\n",
    "    \n",
    "    while \"error\" in player_info :\n",
    "        \n",
    "        if player_info[\"error\"] == 429 :\n",
    "            print( \"[ ] Waiting.... [{} | {}] -Server timed out.\".format( index, tag ) )\n",
    "            time.sleep(1)\n",
    "            player_info = get_info( tag )\n",
    "            \n",
    "        elif player_info[\"error\"] == 404 :\n",
    "            print( \"[x] Error (404) [{} | {}] -No player found with this name\".format( index, tag ) )\n",
    "            skipped += 1\n",
    "            break\n",
    "            \n",
    "        else :\n",
    "            print( \"[!] Error ({}) [{} | {}] -Unrecognized error\".format( player_info[\"error\"], index, tag ) )\n",
    "            skipped += 1\n",
    "            break\n",
    "    else :\n",
    "        details.append( player_info )\n",
    "        print( \"[+] Got info of [{} | {}]\".format( index, tag ) )\n",
    "        time.sleep(2)\n",
    "\n",
    "with open('data{}_{}.json'.format( page_index*50, page_index*50+50 ), 'w') as output:\n",
    "    json.dump( details, output )\n",
    "    \n",
    "print( \"-------------------\" )\n",
    "print( \"[!] Finished! | {} players couldn't found\".format( skipped ) )"
   ]
  },
  {
   "cell_type": "code",
   "execution_count": null,
   "metadata": {
    "collapsed": true
   },
   "outputs": [],
   "source": []
  }
 ],
 "metadata": {
  "kernelspec": {
   "display_name": "Python 3",
   "language": "python",
   "name": "python3"
  },
  "language_info": {
   "codemirror_mode": {
    "name": "ipython",
    "version": 3
   },
   "file_extension": ".py",
   "mimetype": "text/x-python",
   "name": "python",
   "nbconvert_exporter": "python",
   "pygments_lexer": "ipython3",
   "version": "3.6.0"
  }
 },
 "nbformat": 4,
 "nbformat_minor": 2
}
