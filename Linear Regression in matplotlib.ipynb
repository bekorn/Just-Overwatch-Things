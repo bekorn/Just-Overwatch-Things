{
 "cells": [
  {
   "cell_type": "code",
   "execution_count": 30,
   "metadata": {
    "collapsed": false,
    "scrolled": true
   },
   "outputs": [],
   "source": [
    "import matplotlib.pyplot as plt\n",
    "import numpy as np\n",
    "from sklearn import datasets, linear_model"
   ]
  },
  {
   "cell_type": "code",
   "execution_count": 86,
   "metadata": {
    "collapsed": false
   },
   "outputs": [
    {
     "name": "stdout",
     "output_type": "stream",
     "text": [
      "902\n"
     ]
    }
   ],
   "source": [
    "import json\n",
    "from operator import itemgetter\n",
    "\n",
    "owdata = []\n",
    "\n",
    "def get_data( index ) :\n",
    "    \n",
    "    with open('data{}_{}.json'.format( index*50, index*50+50 )) as data_file:    \n",
    "        data = json.load( data_file )\n",
    "\n",
    "    for player in data:\n",
    "        for server in player:\n",
    "\n",
    "            if server in ['eu', 'us', 'kr'] and player[server] and player[server]['stats']['competitive'] and player[server]['stats']['competitive']['overall_stats']['comprank'] and player[server]['stats']['competitive']['overall_stats']['comprank'] > 1000 and player[server]['stats']['competitive']['overall_stats']['win_rate'] > 10:\n",
    "\n",
    "                owdata.append( (player[server]['stats']['competitive']['overall_stats']['comprank'],\n",
    "                                player[server]['stats']['competitive']['overall_stats']['win_rate']) )\n",
    "            \n",
    "for i in range(10):\n",
    "    get_data( i )\n",
    "    \n",
    "print( len(owdata) )"
   ]
  },
  {
   "cell_type": "code",
   "execution_count": 92,
   "metadata": {
    "collapsed": false
   },
   "outputs": [],
   "source": [
    "# Use only one feature\n",
    "win_rates = [ d[0] for d in owdata]\n",
    "skill_ratings = [ d[1] for d in owdata]\n",
    "\n",
    "# Split the data into training/testing sets\n",
    "diabetes_X_train = skill_ratings[:-20]\n",
    "diabetes_X_test = skill_ratings[-20:]\n",
    "\n",
    "# Split the targets into training/testing sets\n",
    "diabetes_y_train = owdata[:-20]\n",
    "diabetes_y_test = owdata[-20:]"
   ]
  },
  {
   "cell_type": "code",
   "execution_count": 91,
   "metadata": {
    "collapsed": false
   },
   "outputs": [],
   "source": [
    "# Create linear regression object\n",
    "regr = linear_model.LinearRegression()\n",
    "\n",
    "# help( regr.fit )\n",
    "\n",
    "# print( win_rates )\n",
    "\n",
    "# Train the model using the training sets\n",
    "# regr.fit( skill_ratings, win_rates[:] )"
   ]
  },
  {
   "cell_type": "code",
   "execution_count": 5,
   "metadata": {
    "collapsed": false
   },
   "outputs": [
    {
     "name": "stdout",
     "output_type": "stream",
     "text": [
      "Coefficients: \n",
      " [ 938.23786125]\n",
      "Mean squared error: 2548.07\n",
      "Variance score: 0.47\n"
     ]
    }
   ],
   "source": [
    "# The coefficients\n",
    "print('Coefficients: \\n', regr.coef_)\n",
    "# The mean squared error\n",
    "print(\"Mean squared error: %.2f\"\n",
    "      % np.mean((regr.predict(diabetes_X_test) - diabetes_y_test) ** 2))\n",
    "# Explained variance score: 1 is perfect prediction\n",
    "print('Variance score: %.2f' % regr.score(diabetes_X_test, diabetes_y_test))"
   ]
  },
  {
   "cell_type": "code",
   "execution_count": 98,
   "metadata": {
    "collapsed": false
   },
   "outputs": [
    {
     "data": {
      "image/png": "[encoded data removed]",
      "text/plain": [
       "<matplotlib.figure.Figure at 0x15464b3ea90>"
      ]
     },
     "metadata": {},
     "output_type": "display_data"
    }
   ],
   "source": [
    "# Plot outputs\n",
    "fig, ax = plt.subplots()\n",
    "\n",
    "ax.scatter( skill_ratings, win_rates )\n",
    "# ax.plot( diabetes_X_test, regr.predict(diabetes_X_test), color='black', linewidth=3)\n",
    "\n",
    "ax.set_xlabel('Win Rate')\n",
    "ax.set_ylabel('Skill Rating')\n",
    "\n",
    "plt.show()"
   ]
  },
  {
   "cell_type": "code",
   "execution_count": null,
   "metadata": {
    "collapsed": true
   },
   "outputs": [],
   "source": []
  }
 ],
 "metadata": {
  "kernelspec": {
   "display_name": "Python 3",
   "language": "python",
   "name": "python3"
  },
  "language_info": {
   "codemirror_mode": {
    "name": "ipython",
    "version": 3
   },
   "file_extension": ".py",
   "mimetype": "text/x-python",
   "name": "python",
   "nbconvert_exporter": "python",
   "pygments_lexer": "ipython3",
   "version": "3.6.0"
  }
 },
 "nbformat": 4,
 "nbformat_minor": 2
}
