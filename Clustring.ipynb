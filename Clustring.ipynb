{
 "cells": [
  {
   "cell_type": "code",
   "execution_count": 103,
   "metadata": {
    "collapsed": true
   },
   "outputs": [],
   "source": [
    "import numpy as np\n",
    "import matplotlib.pyplot as plt\n",
    "from matplotlib.colors import ListedColormap\n",
    "from sklearn import neighbors, datasets"
   ]
  },
  {
   "cell_type": "code",
   "execution_count": 114,
   "metadata": {
    "collapsed": false
   },
   "outputs": [
    {
     "name": "stdout",
     "output_type": "stream",
     "text": [
      "906\n"
     ]
    }
   ],
   "source": [
    "import json\n",
    "from operator import itemgetter\n",
    "\n",
    "owdata = []\n",
    "\n",
    "hero_category =  {\n",
    "    'genji' : 0,\n",
    "    'tracer' : 0,\n",
    "    'reaper' : 0,\n",
    "    'sombra' : 0,\n",
    "    'mccree' : 0,\n",
    "    'pharah' : 0,\n",
    "    'soldier76' : 0,\n",
    "\n",
    "    'hanzo' : 1,\n",
    "    'junkrat' : 1,\n",
    "    'mei' : 1,\n",
    "    'widowmaker' : 1,\n",
    "    'bastion' : 1,\n",
    "    'torbjorn' : 1,\n",
    "\n",
    "    'dva' : 2,\n",
    "    'reinhardt' : 2,\n",
    "    'orisa' : 2,\n",
    "    'roadhog' : 2,\n",
    "    'winston' : 2,\n",
    "    'zarya' : 2,\n",
    "\n",
    "    'lucio' : 3,\n",
    "    'mercy' : 3,\n",
    "    'zenyatta' : 3,\n",
    "    'symmetra' : 3,\n",
    "    'ana' : 3\n",
    "}\n",
    "\n",
    "def get_data( index ) :\n",
    "    \n",
    "    with open('data{}_{}.json'.format( index*50, index*50+50 )) as data_file:    \n",
    "        data = json.load( data_file )\n",
    "\n",
    "    for player in data:\n",
    "        for server in player:\n",
    "\n",
    "            if server in ['eu', 'us', 'kr'] and player[server] and player[server]['stats']['competitive'] and player[server]['stats']['competitive']['overall_stats']['comprank'] and player[server]['heroes']['playtime']['competitive']:\n",
    "                if player[server]['stats']['competitive']['overall_stats']['comprank'] > 1000:\n",
    "                    \n",
    "                    hours = [ 0, 0, 0, 0 ]\n",
    "                    for hero in player[server]['heroes']['playtime']['competitive']:\n",
    "                        hours[ hero_category[hero] ] += player[server]['heroes']['playtime']['competitive'][hero]\n",
    "                    owdata.append( [player[server]['stats']['competitive']['overall_stats']['comprank'] ] + hours )\n",
    "            \n",
    "for i in range(10):\n",
    "    get_data( i )\n",
    "    \n",
    "print( len(owdata) )"
   ]
  },
  {
   "cell_type": "code",
   "execution_count": 152,
   "metadata": {
    "collapsed": false
   },
   "outputs": [],
   "source": [
    "owdata = np.array( owdata )"
   ]
  },
  {
   "cell_type": "code",
   "execution_count": 159,
   "metadata": {
    "collapsed": false
   },
   "outputs": [],
   "source": [
    "n_neighbors = 10\n",
    "\n",
    "X = owdata[:, :4]\n",
    "y = owdata[:, 0]\n",
    "\n",
    "# print( X )\n",
    "# print( y )\n",
    "\n",
    "h = 2  # step size in the mesh"
   ]
  },
  {
   "cell_type": "code",
   "execution_count": 160,
   "metadata": {
    "collapsed": true
   },
   "outputs": [],
   "source": [
    "# Create color maps\n",
    "cmap_light = ListedColormap(['#FFAAAA', '#AAFFAA', '#AAAAFF', '#FFFF83'])\n",
    "cmap_bold = ListedColormap(['#FF0000', '#00FF00', '#0000FF', '#E1E159'])"
   ]
  },
  {
   "cell_type": "code",
   "execution_count": 162,
   "metadata": {
    "collapsed": false
   },
   "outputs": [
    {
     "data": {
      "image/png": "[encoded data removed]",
      "text/plain": [
       "<matplotlib.figure.Figure at 0x246e20f9400>"
      ]
     },
     "metadata": {},
     "output_type": "display_data"
    }
   ],
   "source": [
    "# for weights in ['uniform', 'distance']:\n",
    "\n",
    "# we create an instance of Neighbours Classifier and fit the data.\n",
    "clf = neighbors.KNeighborsClassifier(n_neighbors, weights='distance', n_jobs=-1 )\n",
    "clf.fit(X, y)\n",
    "\n",
    "# Plot the decision boundary. For that, we will assign a color to each\n",
    "# point in the mesh [x_min, x_max]x[y_min, y_max].\n",
    "x_min, x_max = X[:, 0].min() - 1, X[:, 0].max() + 1\n",
    "y_min, y_max = X[:, 1].min() - 1, X[:, 1].max() + 1\n",
    "xx, yy = np.meshgrid(np.arange(x_min, x_max, h),\n",
    "                     np.arange(y_min, y_max, h))\n",
    "# Z = clf.predict(np.c_[xx.ravel(), yy.ravel()])\n",
    "\n",
    "# Put the result into a color plot\n",
    "Z = Z.reshape(xx.shape)\n",
    "plt.figure()\n",
    "plt.pcolormesh(xx, yy, Z, cmap=cmap_light)\n",
    "\n",
    "# Plot also the training points\n",
    "plt.scatter(X[:, 0], X[:, 1], c=y, cmap=cmap_bold)\n",
    "plt.xlim(xx.min(), xx.max())\n",
    "plt.ylim(yy.min(), yy.max())\n",
    "plt.title(\"Player Roles\")\n",
    "\n",
    "plt.show()"
   ]
  },
  {
   "cell_type": "code",
   "execution_count": null,
   "metadata": {
    "collapsed": true
   },
   "outputs": [],
   "source": []
  }
 ],
 "metadata": {
  "kernelspec": {
   "display_name": "Python 3",
   "language": "python",
   "name": "python3"
  },
  "language_info": {
   "codemirror_mode": {
    "name": "ipython",
    "version": 3
   },
   "file_extension": ".py",
   "mimetype": "text/x-python",
   "name": "python",
   "nbconvert_exporter": "python",
   "pygments_lexer": "ipython3",
   "version": "3.6.0"
  }
 },
 "nbformat": 4,
 "nbformat_minor": 2
}
