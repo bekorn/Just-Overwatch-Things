{
 "cells": [
  {
   "cell_type": "code",
   "execution_count": 20,
   "metadata": {
    "collapsed": false
   },
   "outputs": [
    {
     "name": "stdout",
     "output_type": "stream",
     "text": [
      "Collecting jgraph\n",
      "  Downloading jgraph-0.2.1-py2.py3-none-any.whl (119kB)\n",
      "Requirement already satisfied: ipython in c:\\users\\berk\\anaconda3\\lib\\site-packages (from jgraph)\n",
      "Installing collected packages: jgraph\n",
      "Successfully installed jgraph-0.2.1\n"
     ]
    }
   ],
   "source": [
    "# We will use this package for our graph \n",
    "!pip install jgraph"
   ]
  },
  {
   "cell_type": "code",
   "execution_count": 94,
   "metadata": {
    "collapsed": false,
    "scrolled": true
   },
   "outputs": [],
   "source": [
    "import jgraph"
   ]
  },
  {
   "cell_type": "code",
   "execution_count": 95,
   "metadata": {
    "collapsed": false
   },
   "outputs": [
    {
     "name": "stdout",
     "output_type": "stream",
     "text": [
      "936\n"
     ]
    }
   ],
   "source": [
    "import json\n",
    "from operator import itemgetter\n",
    "\n",
    "playtimes = []\n",
    "\n",
    "def get_data( index ) :\n",
    "    \n",
    "    with open('data{}_{}.json'.format( index*50, index*50+50 )) as data_file:    \n",
    "        data = json.load( data_file )\n",
    "\n",
    "    for player in data:\n",
    "        for server in player:\n",
    "\n",
    "            if( server in ['eu', 'us', 'kr'] and player[server] and player[server]['heroes']['playtime']['competitive'] ):\n",
    "\n",
    "                playtimes.append( sorted( player[server]['heroes']['playtime']['competitive'].items(), key=lambda v:v[1], reverse=True )[:3] )\n",
    "            \n",
    "for i in range(10):\n",
    "    get_data( i )\n",
    "    \n",
    "print( len(playtimes) )"
   ]
  },
  {
   "cell_type": "code",
   "execution_count": 96,
   "metadata": {
    "collapsed": false
   },
   "outputs": [],
   "source": [
    "graph = {\n",
    "    'nodes': {\n",
    "        'genji': {'color': 0xffaaaa, 'size': 2.0},\n",
    "        'tracer': {'color': 0xffaaaa, 'size': 2.0},\n",
    "        'reaper': {'color': 0xffaaaa, 'size': 2.0},\n",
    "        'sombra': {'color': 0xffaaaa, 'size': 2.0},\n",
    "        'mccree': {'color': 0xffaaaa, 'size': 2.0},\n",
    "        'pharah': {'color': 0xffaaaa, 'size': 2.0},\n",
    "        'soldier76': {'color': 0xffaaaa, 'size': 2.0},\n",
    "        \n",
    "        'hanzo': {'color': 0xAAFFAA, 'size': 2.0}, \n",
    "        'junkrat': {'color': 0xAAFFAA, 'size': 2.0},\n",
    "        'mei': {'color': 0xAAFFAA, 'size': 2.0},\n",
    "        'widowmaker': {'color': 0xAAFFAA, 'size': 2.0},\n",
    "        'bastion': {'color': 0xAAFFAA, 'size': 2.0},\n",
    "        'torbjorn': {'color': 0xAAFFAA, 'size': 2.0},\n",
    "        \n",
    "        'dva': {'color': 0x41F2B5, 'size': 2.0},\n",
    "        'reinhardt': {'color': 0x41F2B5, 'size': 2.0},\n",
    "        'orisa': {'color': 0x41F2B5, 'size': 2.0},\n",
    "        'roadhog': {'color': 0x41F2B5, 'size': 2.0},\n",
    "        'winston': {'color': 0x41F2B5, 'size': 2.0},\n",
    "        'zarya': {'color': 0x41F2B5, 'size': 2.0},\n",
    "        \n",
    "        'lucio': {'color': 0x37D03A, 'size': 2.0},\n",
    "        'mercy': {'color': 0x37D03A, 'size': 2.0},\n",
    "        'zenyatta': {'color': 0x37D03A, 'size': 2.0},\n",
    "        'symmetra': {'color': 0x37D03A, 'size': 2.0},\n",
    "        'ana': {'color': 0x37D03A, 'size': 2.0},\n",
    "    }\n",
    "}"
   ]
  },
  {
   "cell_type": "code",
   "execution_count": 97,
   "metadata": {
    "collapsed": false
   },
   "outputs": [
    {
     "data": {
      "text/html": [
       "<div id=\"graph-ef6c4740-3efb-452f-9297-4650e1a26e8e\"></div>\n",
       "           <script type=\"text/javascript\">\n",
       "           require.config({baseUrl: '/',\n",
       "                             paths: {jgraph: ['nbextensions/jgraph.min', 'https://rawgit.com/patrickfuller/jgraph/master/js/build/jgraph.min']}});\n",
       "           require(['jgraph'], function () {\n",
       "               var $d = $('#graph-ef6c4740-3efb-452f-9297-4650e1a26e8e');\n",
       "               $d.width(600); $d.height(400);\n",
       "               $d.jgraph = jQuery.extend({}, jgraph);\n",
       "               $d.jgraph.create($d, {nodeSize: 2.000000,\n",
       "                                     edgeSize: 0.250000,\n",
       "                                     defaultNodeColor: '0x5bc0de',\n",
       "                                     defaultEdgeColor: '0xaaaaaa',\n",
       "                                     shader: 'basic',\n",
       "                                     z: 100,\n",
       "                                     runOptimization: true,\n",
       "                                     directed: false,\n",
       "                                     showSave: false});\n",
       "               $d.jgraph.draw({\n",
       "    \"edges\": [\n",
       "        { \"size\": 8.116666666666667, \"source\": \"tracer\", \"tag\": \"123\", \"target\": \"soldier76\" },\n",
       "        { \"size\": 2.816666666666667, \"source\": \"soldier76\", \"tag\": \"123\", \"target\": \"roadhog\" },\n",
       "        { \"size\": 2.083333333333333, \"source\": \"tracer\", \"tag\": \"123\", \"target\": \"roadhog\" },\n",
       "        { \"size\": 1.45, \"source\": \"genji\", \"tag\": \"123\", \"target\": \"ana\" },\n",
       "        { \"size\": 0.85, \"source\": \"widowmaker\", \"tag\": \"123\", \"target\": \"genji\" },\n",
       "        { \"size\": 0.6833333333333333, \"source\": \"widowmaker\", \"tag\": \"123\", \"target\": \"ana\" },\n",
       "        { \"size\": 0.7166666666666667, \"source\": \"zenyatta\", \"tag\": \"123\", \"target\": \"mercy\" },\n",
       "        { \"size\": 1.8166666666666667, \"source\": \"zenyatta\", \"tag\": \"123\", \"target\": \"ana\" },\n",
       "        { \"size\": 0.9833333333333333, \"source\": \"mercy\", \"tag\": \"123\", \"target\": \"ana\" },\n",
       "        { \"size\": 6.25, \"source\": \"soldier76\", \"tag\": \"123\", \"target\": \"genji\" },\n",
       "        { \"size\": 5.05, \"source\": \"tracer\", \"tag\": \"123\", \"target\": \"genji\" },\n",
       "        { \"size\": 0.85, \"source\": \"soldier76\", \"tag\": \"123\", \"target\": \"dva\" },\n",
       "        { \"size\": 2.683333333333333, \"source\": \"mccree\", \"tag\": \"123\", \"target\": \"genji\" },\n",
       "        { \"size\": 3.6166666666666667, \"source\": \"tracer\", \"tag\": \"123\", \"target\": \"mccree\" },\n",
       "        { \"size\": 4.083333333333334, \"source\": \"soldier76\", \"tag\": \"123\", \"target\": \"mccree\" },\n",
       "        { \"size\": 2.05, \"source\": \"zarya\", \"tag\": \"123\", \"target\": \"roadhog\" },\n",
       "        { \"size\": 3.1166666666666667, \"source\": \"zarya\", \"tag\": \"123\", \"target\": \"soldier76\" },\n",
       "        { \"size\": 2.45, \"source\": \"soldier76\", \"tag\": \"123\", \"target\": \"ana\" },\n",
       "        { \"size\": 1.3166666666666667, \"source\": \"mccree\", \"tag\": \"123\", \"target\": \"ana\" },\n",
       "        { \"size\": 1.55, \"source\": \"zarya\", \"tag\": \"123\", \"target\": \"mccree\" },\n",
       "        { \"size\": 1.45, \"source\": \"zarya\", \"tag\": \"123\", \"target\": \"winston\" },\n",
       "        { \"size\": 0.8833333333333333, \"source\": \"widowmaker\", \"tag\": \"123\", \"target\": \"soldier76\" },\n",
       "        { \"size\": 0.8166666666666667, \"source\": \"widowmaker\", \"tag\": \"123\", \"target\": \"tracer\" },\n",
       "        { \"size\": 1.9833333333333334, \"source\": \"roadhog\", \"tag\": \"123\", \"target\": \"genji\" },\n",
       "        { \"size\": 1.6833333333333333, \"source\": \"zarya\", \"tag\": \"123\", \"target\": \"ana\" },\n",
       "        { \"size\": 2.4166666666666665, \"source\": \"zarya\", \"tag\": \"123\", \"target\": \"genji\" },\n",
       "        { \"size\": 1.1166666666666667, \"source\": \"zarya\", \"tag\": \"123\", \"target\": \"reinhardt\" },\n",
       "        { \"size\": 0.6833333333333333, \"source\": \"soldier76\", \"tag\": \"123\", \"target\": \"reinhardt\" },\n",
       "        { \"size\": 1.4833333333333334, \"source\": \"roadhog\", \"tag\": \"123\", \"target\": \"ana\" },\n",
       "        { \"size\": 1.6166666666666667, \"source\": \"tracer\", \"tag\": \"123\", \"target\": \"ana\" },\n",
       "        { \"size\": 3.15, \"source\": \"zarya\", \"tag\": \"123\", \"target\": \"tracer\" },\n",
       "        { \"size\": 0.95, \"source\": \"winston\", \"tag\": \"123\", \"target\": \"roadhog\" },\n",
       "        { \"size\": 0.95, \"source\": \"pharah\", \"tag\": \"123\", \"target\": \"genji\" },\n",
       "        { \"size\": 1.1833333333333333, \"source\": \"zarya\", \"tag\": \"123\", \"target\": \"dva\" },\n",
       "        { \"size\": 1.05, \"source\": \"zarya\", \"tag\": \"123\", \"target\": \"pharah\" },\n",
       "        { \"size\": 0.85, \"source\": \"tracer\", \"tag\": \"123\", \"target\": \"pharah\" },\n",
       "        { \"size\": 2.35, \"source\": \"winston\", \"tag\": \"123\", \"target\": \"reinhardt\" },\n",
       "        { \"size\": 1.3166666666666667, \"source\": \"roadhog\", \"tag\": \"123\", \"target\": \"reinhardt\" },\n",
       "        { \"size\": 0.9833333333333333, \"source\": \"roadhog\", \"tag\": \"123\", \"target\": \"dva\" },\n",
       "        { \"size\": 0.7833333333333333, \"source\": \"roadhog\", \"tag\": \"123\", \"target\": \"lucio\" },\n",
       "        { \"size\": 0.8833333333333333, \"source\": \"roadhog\", \"tag\": \"123\", \"target\": \"mccree\" },\n",
       "        { \"size\": 0.6833333333333333, \"source\": \"soldier76\", \"tag\": \"123\", \"target\": \"pharah\" },\n",
       "        { \"size\": 0.9833333333333333, \"source\": \"mercy\", \"tag\": \"123\", \"target\": \"lucio\" },\n",
       "        { \"size\": 0.8833333333333333, \"source\": \"widowmaker\", \"tag\": \"123\", \"target\": \"mccree\" },\n",
       "        { \"size\": 0.8833333333333333, \"source\": \"reinhardt\", \"tag\": \"123\", \"target\": \"dva\" },\n",
       "        { \"size\": 1.7833333333333334, \"source\": \"reinhardt\", \"tag\": \"123\", \"target\": \"ana\" },\n",
       "        { \"size\": 2.45, \"source\": \"lucio\", \"tag\": \"123\", \"target\": \"ana\" },\n",
       "        { \"size\": 0.9833333333333333, \"source\": \"zenyatta\", \"tag\": \"123\", \"target\": \"lucio\" },\n",
       "        { \"size\": 0.6833333333333333, \"source\": \"winston\", \"tag\": \"123\", \"target\": \"lucio\" },\n",
       "        { \"size\": 1.3833333333333333, \"source\": \"reinhardt\", \"tag\": \"123\", \"target\": \"lucio\" },\n",
       "        { \"size\": 0.7166666666666667, \"source\": \"winston\", \"tag\": \"123\", \"target\": \"dva\" }\n",
       "    ],\n",
       "    \"nodes\": {\n",
       "        \"ana\": { \"color\": \"0x37d03a\", \"size\": 2.0 },\n",
       "        \"bastion\": { \"color\": \"0xaaffaa\", \"size\": 2.0 },\n",
       "        \"dva\": { \"color\": \"0x41f2b5\", \"size\": 2.0 },\n",
       "        \"genji\": { \"color\": \"0xffaaaa\", \"size\": 2.0 },\n",
       "        \"hanzo\": { \"color\": \"0xaaffaa\", \"size\": 2.0 },\n",
       "        \"junkrat\": { \"color\": \"0xaaffaa\", \"size\": 2.0 },\n",
       "        \"lucio\": { \"color\": \"0x37d03a\", \"size\": 2.0 },\n",
       "        \"mccree\": { \"color\": \"0xffaaaa\", \"size\": 2.0 },\n",
       "        \"mei\": { \"color\": \"0xaaffaa\", \"size\": 2.0 },\n",
       "        \"mercy\": { \"color\": \"0x37d03a\", \"size\": 2.0 },\n",
       "        \"orisa\": { \"color\": \"0x41f2b5\", \"size\": 2.0 },\n",
       "        \"pharah\": { \"color\": \"0xffaaaa\", \"size\": 2.0 },\n",
       "        \"reaper\": { \"color\": \"0xffaaaa\", \"size\": 2.0 },\n",
       "        \"reinhardt\": { \"color\": \"0x41f2b5\", \"size\": 2.0 },\n",
       "        \"roadhog\": { \"color\": \"0x41f2b5\", \"size\": 2.0 },\n",
       "        \"soldier76\": { \"color\": \"0xffaaaa\", \"size\": 2.0 },\n",
       "        \"sombra\": { \"color\": \"0xffaaaa\", \"size\": 2.0 },\n",
       "        \"symmetra\": { \"color\": \"0x37d03a\", \"size\": 2.0 },\n",
       "        \"torbjorn\": { \"color\": \"0xaaffaa\", \"size\": 2.0 },\n",
       "        \"tracer\": { \"color\": \"0xffaaaa\", \"size\": 2.0 },\n",
       "        \"widowmaker\": { \"color\": \"0xaaffaa\", \"size\": 2.0 },\n",
       "        \"winston\": { \"color\": \"0x41f2b5\", \"size\": 2.0 },\n",
       "        \"zarya\": { \"color\": \"0x41f2b5\", \"size\": 2.0 },\n",
       "        \"zenyatta\": { \"color\": \"0x37d03a\", \"size\": 2.0 }\n",
       "    }\n",
       "});\n",
       "\n",
       "               $d.resizable({\n",
       "                   aspectRatio: 600 / 400,\n",
       "                   resize: function (evt, ui) {\n",
       "                       $d.jgraph.renderer.setSize(ui.size.width,\n",
       "                                                  ui.size.height);\n",
       "                   }\n",
       "               });\n",
       "           });\n",
       "           </script>"
      ],
      "text/plain": [
       "<IPython.core.display.HTML object>"
      ]
     },
     "metadata": {},
     "output_type": "display_data"
    }
   ],
   "source": [
    "from collections import Counter\n",
    "\n",
    "graph['edges'] = []\n",
    "connections = []\n",
    "#         {'source': 'genji', 'target': 'hanzo', 'size': 3, 'color': 0x606ABE},\n",
    "\n",
    "def connect ( source, target ):\n",
    "    if source > target:\n",
    "        return ( source, target )\n",
    "    else:\n",
    "        return ( target, source )\n",
    "\n",
    "for times in playtimes:\n",
    "    connections.append( connect( times[0][0], times[1][0] ) )\n",
    "    connections.append( connect( times[1][0], times[2][0] ) )\n",
    "    connections.append( connect( times[2][0], times[0][0] ) )\n",
    "\n",
    "connections = dict( Counter(connections) )\n",
    "\n",
    "# print( connections )\n",
    "\n",
    "for (s, t) in connections:\n",
    "    if connections[(s,t)] > 12:\n",
    "        graph['edges'].append( {'source': s, 'target': t, 'size': 0.25+ connections[(s,t)]/30, 'tag': '123'} )\n",
    "\n",
    "jgraph.draw(graph, directed=False)"
   ]
  }
 ],
 "metadata": {
  "kernelspec": {
   "display_name": "Python 3",
   "language": "python",
   "name": "python3"
  },
  "language_info": {
   "codemirror_mode": {
    "name": "ipython",
    "version": 3
   },
   "file_extension": ".py",
   "mimetype": "text/x-python",
   "name": "python",
   "nbconvert_exporter": "python",
   "pygments_lexer": "ipython3",
   "version": "3.6.0"
  }
 },
 "nbformat": 4,
 "nbformat_minor": 2
}
