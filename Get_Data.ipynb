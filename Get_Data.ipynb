{
 "cells": [
  {
   "cell_type": "code",
   "execution_count": 1,
   "metadata": {
    "collapsed": false
   },
   "outputs": [],
   "source": [
    "import json\n",
    "from lxml import html\n",
    "import requests\n",
    "\n",
    "page = requests.get('http://masteroverwatch.com/leaderboards/pc/global/mode/ranked/category/skillrating')\n",
    "tree = html.fromstring(page.content)"
   ]
  },
  {
   "cell_type": "code",
   "execution_count": 8,
   "metadata": {
    "collapsed": false
   },
   "outputs": [
    {
     "name": "stdout",
     "output_type": "stream",
     "text": [
      "mikk017f-2536\n",
      "쪼낙-3241\n",
      "CantuS-11693\n",
      "dafran-2671\n",
      "Graceful-2412\n",
      "EFFECT-31630\n",
      "MsPeregrine-1558\n",
      "SelflessGG-1116\n",
      "silkthread-1324\n",
      "SPACE-12232\n",
      "Zonda-4175\n",
      "yArG-3338\n",
      "YLLES-3238\n",
      "Poko-2323\n",
      "Exxu-2719\n",
      "koreanbbq-11796\n",
      "babybay-1469\n",
      "쪼물락낙지-3895\n",
      "VX877652969-1828\n",
      "Rawkus-1108\n",
      "Cloneman16-1738\n",
      "SPREE-2984\n",
      "Dante-28343\n",
      "SKRRSKRR-1878\n",
      "kyru-21699\n",
      "Hydration-1570\n",
      "Han-22875\n",
      "Nbrgibup-1700\n",
      "Miso-11505\n",
      "Rascal-31813\n",
      "Shaz-21907\n",
      "KariV-31768\n",
      "x69x420x69xD-1759\n",
      "br1-11125\n",
      "Kellar-1335\n",
      "vallutaja-2514\n",
      "뜨용-3960\n",
      "Lelouch-22653\n",
      "NiCOgdh-2794\n",
      "EVERMORE-31643\n",
      "BarcodeKiler-21579\n",
      "shadder2k-2475\n",
      "Razaplaza-2649\n",
      "Smex-21111\n",
      "snillo-21537\n",
      "KAFEEEEEE-2350\n",
      "MemeKid-11523\n",
      "nil-21796\n",
      "Selly-31181\n",
      "Logix-21658\n"
     ]
    }
   ],
   "source": [
    "rows = tree.xpath('/html/body/main[2]/div/div[2]/div/div[2]/div[3]/div')\n",
    "#print( 'Rows: ', rows )\n",
    "\n",
    "battle_tags = list( rows )\n",
    "\n",
    "for tag in battle_tags:\n",
    "   print( tag[0].attrib['href'].split('/')[-1] )"
   ]
  },
  {
   "cell_type": "code",
   "execution_count": 9,
   "metadata": {
    "collapsed": false
   },
   "outputs": [
    {
     "name": "stdout",
     "output_type": "stream",
     "text": [
      "<Element a at 0x1b7444f9a48>\n",
      "{\n",
      "    \"_request\": {\n",
      "        \"api_ver\": 3,\n",
      "        \"route\": \"/api/v3/u/Logix-21658/blob\"\n",
      "    },\n",
      "    \"error\": 400,\n",
      "    \"msg\": \"Hi! To prevent abuse of this service, it is required that you customize your user agent.\"\n",
      "}\n"
     ]
    }
   ],
   "source": [
    "print( battle_tags[0][0] )\n",
    "\n",
    "for tag in battle_tags:\n",
    "    details = requests.get('https://owapi.net/api/v3/u/'+ tag[0].attrib['href'].split('/')[-1] +'/blob')  \n",
    "# details = requests.get('https://api.lootbox.eu/pc/eu/'+ tag[0].attrib['href'].split('/')[-1] +'/competitive/allHeroes/')\n",
    "\n",
    "myJSON = json.loads( details.content )\n",
    "print( json.dumps( myJSON, indent=4, sort_keys=True ) )"
   ]
  },
  {
   "cell_type": "code",
   "execution_count": null,
   "metadata": {
    "collapsed": true
   },
   "outputs": [],
   "source": []
  }
 ],
 "metadata": {
  "kernelspec": {
   "display_name": "Python 3",
   "language": "python",
   "name": "python3"
  },
  "language_info": {
   "codemirror_mode": {
    "name": "ipython",
    "version": 3
   },
   "file_extension": ".py",
   "mimetype": "text/x-python",
   "name": "python",
   "nbconvert_exporter": "python",
   "pygments_lexer": "ipython3",
   "version": "3.6.0"
  }
 },
 "nbformat": 4,
 "nbformat_minor": 2
}
